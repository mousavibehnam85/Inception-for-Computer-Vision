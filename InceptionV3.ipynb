{
 "cells": [
  {
   "cell_type": "code",
   "execution_count": 1,
   "id": "5c03669b-cb31-4c0b-ad3a-ee3a3d0297e5",
   "metadata": {},
   "outputs": [
    {
     "name": "stderr",
     "output_type": "stream",
     "text": [
      "2024-01-30 14:09:18.651436: I tensorflow/core/platform/cpu_feature_guard.cc:182] This TensorFlow binary is optimized to use available CPU instructions in performance-critical operations.\n",
      "To enable the following instructions: AVX2 FMA, in other operations, rebuild TensorFlow with the appropriate compiler flags.\n"
     ]
    }
   ],
   "source": [
    "import tensorflow as tf\n",
    "from tensorflow.keras.applications.inception_v3 import InceptionV3,preprocess_input, decode_predictions# \n",
    "from tensorflow.keras.preprocessing import image\n",
    "import numpy as np\n",
    "import os\n",
    "\n",
    "\n",
    "\n",
    "model = InceptionV3(weights='imagenet')"
   ]
  },
  {
   "cell_type": "code",
   "execution_count": 2,
   "id": "ed92b1c5-583b-46b8-b519-8d936510130a",
   "metadata": {},
   "outputs": [],
   "source": [
    "# Function to preprocess the image\n",
    "def preprocess_image(img_path):\n",
    "    # Load the image file, resizing it to 299x299 pixels\n",
    "    img = image.load_img(img_path, target_size=(299, 299))\n",
    "    # Convert the image to a numpy array\n",
    "    img_array = image.img_to_array(img)\n",
    "    # Expand the shape of the array to (1, 299, 299, 3) for batch processing\n",
    "    # (assuming you are passing a single image)\n",
    "    img_array_expanded_dims = np.expand_dims(img_array, axis=0)\n",
    "    # Use the preprocess_input function specific to Inception v3\n",
    "    return preprocess_input(img_array_expanded_dims)\n",
    "\n",
    "# Function to classify the image and print top 3 predictions\n",
    "def classify_image(model, img_path):\n",
    "    # Preprocess the image\n",
    "    processed_image = preprocess_image(img_path)\n",
    "    # Make predictions\n",
    "    predictions = model.predict(processed_image)\n",
    "    # Decode and print the top 3 predictions\n",
    "    top_predictions = decode_predictions(predictions, top=10)[0]\n",
    "    for i, (imagenet_id, label, score) in enumerate(top_predictions):\n",
    "        print(f\"{i + 1}: {label} ({score:.2f})\")\n"
   ]
  },
  {
   "cell_type": "code",
   "execution_count": 4,
   "id": "b7c75ea8-bf32-4a77-9fea-d6923637c813",
   "metadata": {},
   "outputs": [
    {
     "name": "stdout",
     "output_type": "stream",
     "text": [
      "1/1 [==============================] - 0s 86ms/step\n",
      "1: tabby (0.60)\n",
      "2: tiger_cat (0.21)\n",
      "3: Egyptian_cat (0.12)\n",
      "4: lynx (0.01)\n",
      "5: carton (0.00)\n",
      "6: Persian_cat (0.00)\n",
      "7: tiger (0.00)\n",
      "8: plastic_bag (0.00)\n",
      "9: radiator (0.00)\n",
      "10: pot (0.00)\n",
      "None\n"
     ]
    }
   ],
   "source": [
    "# Example usage\n",
    "img_path = \"/Users/behnam/python-projects/Neural Network/Computer Vision/CV_for_Pretrainedv3/Tabby.png\"\n",
    "predictions = classify_image(model, img_path)\n",
    "print(predictions)"
   ]
  },
  {
   "cell_type": "code",
   "execution_count": null,
   "id": "7ec8ed4e-c76e-4f0b-88e1-9e9c0dfc82a8",
   "metadata": {},
   "outputs": [],
   "source": []
  },
  {
   "cell_type": "code",
   "execution_count": null,
   "id": "c2f22a4b-9c91-45e9-8eb6-e98f49518b9a",
   "metadata": {},
   "outputs": [],
   "source": []
  }
 ],
 "metadata": {
  "kernelspec": {
   "display_name": "Python 3.9",
   "language": "python",
   "name": "python3.9"
  },
  "language_info": {
   "codemirror_mode": {
    "name": "ipython",
    "version": 3
   },
   "file_extension": ".py",
   "mimetype": "text/x-python",
   "name": "python",
   "nbconvert_exporter": "python",
   "pygments_lexer": "ipython3",
   "version": "3.9.18"
  }
 },
 "nbformat": 4,
 "nbformat_minor": 5
}
